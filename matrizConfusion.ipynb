{
 "cells": [
  {
   "cell_type": "code",
   "execution_count": 24,
   "metadata": {},
   "outputs": [],
   "source": [
    "# Importar las librerias\n",
    "import numpy as np\n",
    "import matplotlib.pyplot as plt\n",
    "from sklearn.metrics import confusion_matrix, ConfusionMatrixDisplay, f1_score, accuracy_score, precision_score, recall_score, roc_curve"
   ]
  },
  {
   "cell_type": "code",
   "execution_count": 25,
   "metadata": {},
   "outputs": [],
   "source": [
    "# Genera un arregle de 100 elementos entre 0 y 1\n",
    "datos = np.random.randint(0, 2, 100)"
   ]
  },
  {
   "cell_type": "code",
   "execution_count": 26,
   "metadata": {},
   "outputs": [],
   "source": [
    "# Crea un copia de los datos\n",
    "yDatos = np.copy(datos)\n",
    "for i in range(len(yDatos)):\n",
    "    # Genere un numero aleatorio de manera uniforme entre 0 y hasta 1\n",
    "    u = np.random.uniform()\n",
    "    # Valida si el numero es mayor a 0.7\n",
    "    if u > 0.7:\n",
    "        # Cambia el valor del elemento al contrario\n",
    "        yDatos[i] = np.logical_not(datos[i])"
   ]
  },
  {
   "cell_type": "code",
   "execution_count": 27,
   "metadata": {},
   "outputs": [
    {
     "name": "stdout",
     "output_type": "stream",
     "text": [
      "[1 1 1 0 1 0 0 0 1 1 0 0 0 0 0 0 1 1 0 0 1 1 1 1 0 0 0 1 0 0 1 1 1 1 1 1 0\n",
      " 1 0 1 0 0 0 1 1 0 0 1 1 0 0 0 0 1 1 0 1 0 1 1 1 0 0 0 0 0 0 1 0 1 0 0 1 0\n",
      " 0 1 1 1 1 0 0 0 0 0 0 1 0 0 0 1 0 1 1 0 1 0 0 0 0 0]\n"
     ]
    }
   ],
   "source": [
    "print(datos)"
   ]
  },
  {
   "cell_type": "code",
   "execution_count": 28,
   "metadata": {},
   "outputs": [
    {
     "name": "stdout",
     "output_type": "stream",
     "text": [
      "[0 0 1 1 1 0 0 0 1 1 1 0 1 0 0 1 1 0 1 1 0 1 1 1 0 0 0 0 0 1 0 1 0 1 1 0 0\n",
      " 0 1 0 0 0 0 1 1 0 0 1 1 0 0 1 0 0 1 1 0 0 1 0 1 0 0 0 0 0 0 0 1 0 1 0 1 1\n",
      " 1 1 1 1 1 0 0 0 1 0 0 1 0 0 0 0 0 1 1 0 0 0 0 1 1 0]\n"
     ]
    }
   ],
   "source": [
    "print(yDatos)"
   ]
  },
  {
   "cell_type": "code",
   "execution_count": 29,
   "metadata": {},
   "outputs": [],
   "source": [
    "# Genera la matriz de confusion\n",
    "matrizConfusion = confusion_matrix(datos, yDatos)\n",
    "# Obtiene los true-negative, false-positive, false-negative y true-positive\n",
    "tn, fp, fn, tp = matrizConfusion.ravel()\n",
    "# Calcula el f-measure\n",
    "f1 = f1_score(datos, yDatos)\n",
    "# Calcula las otras metricas\n",
    "exactitud = accuracy_score(datos, yDatos)\n",
    "precision = precision_score(datos, yDatos)\n",
    "recall = recall_score(datos, yDatos)\n",
    "sensibilidad = tn/(tn+fp)"
   ]
  },
  {
   "cell_type": "code",
   "execution_count": 30,
   "metadata": {},
   "outputs": [
    {
     "data": {
      "text/plain": [
       "<sklearn.metrics._plot.confusion_matrix.ConfusionMatrixDisplay at 0x2746e37edf0>"
      ]
     },
     "execution_count": 30,
     "metadata": {},
     "output_type": "execute_result"
    },
    {
     "data": {
      "image/png": "[encoded data removed]",
      "text/plain": [
       "<Figure size 640x480 with 2 Axes>"
      ]
     },
     "metadata": {},
     "output_type": "display_data"
    }
   ],
   "source": [
    "# Visualizar matriz\n",
    "visualizarMatriz = ConfusionMatrixDisplay(matrizConfusion)\n",
    "visualizarMatriz.plot()"
   ]
  },
  {
   "cell_type": "code",
   "execution_count": 31,
   "metadata": {},
   "outputs": [
    {
     "name": "stdout",
     "output_type": "stream",
     "text": [
      "Exactitud: 0.66\n",
      "Precision: 0.6046511627906976\n",
      "Recall: 0.6046511627906976\n",
      "Sensibilidad: 0.7017543859649122\n"
     ]
    }
   ],
   "source": [
    "print(f\"Exactitud: {exactitud}\")\n",
    "print(f\"Precision: {precision}\")\n",
    "print(f\"Recall: {recall}\")\n",
    "print(f\"Sensibilidad: {sensibilidad}\")"
   ]
  }
 ],
 "metadata": {
  "kernelspec": {
   "display_name": "ejecicios-aprendizaje-automatico-env",
   "language": "python",
   "name": "python3"
  },
  "language_info": {
   "codemirror_mode": {
    "name": "ipython",
    "version": 3
   },
   "file_extension": ".py",
   "mimetype": "text/x-python",
   "name": "python",
   "nbconvert_exporter": "python",
   "pygments_lexer": "ipython3",
   "version": "3.8.6"
  },
  "orig_nbformat": 4
 },
 "nbformat": 4,
 "nbformat_minor": 2
}
